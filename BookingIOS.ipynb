{
  "nbformat": 4,
  "nbformat_minor": 0,
  "metadata": {
    "colab": {
      "provenance": [],
      "authorship_tag": "ABX9TyMdBaKvsWWhIndjVtOKG1fC",
      "include_colab_link": true
    },
    "kernelspec": {
      "name": "python3",
      "display_name": "Python 3"
    },
    "language_info": {
      "name": "python"
    }
  },
  "cells": [
    {
      "cell_type": "markdown",
      "metadata": {
        "id": "view-in-github",
        "colab_type": "text"
      },
      "source": [
        "<a href=\"https://colab.research.google.com/github/MallocITServices/Goddiesworld/blob/main/BookingIOS.ipynb\" target=\"_parent\"><img src=\"https://colab.research.google.com/assets/colab-badge.svg\" alt=\"Open In Colab\"/></a>"
      ]
    },
    {
      "cell_type": "code",
      "execution_count": null,
      "metadata": {
        "id": "20cXQMwT-0jK"
      },
      "outputs": [],
      "source": [
        "import tkinter as tk\n",
        "from tkinter import messagebox\n",
        "\n",
        "# Sample ticket data\n",
        "ticket = {\n",
        "    \"title\": \"Goa Express\",\n",
        "    \"from\": \"Panaji\",\n",
        "    \"to\": \"Margao\",\n",
        "    \"time\": \"10:00 AM\",\n",
        "    \"price\": \"₹120\"\n",
        "}\n",
        "\n",
        "def confirm_booking():\n",
        "    messagebox.showinfo(\"Confirmation\", \"Booking Confirmed!\\nEnjoy your trip in Goa 🌴\")\n",
        "\n",
        "# Setup main window\n",
        "root = tk.Tk()\n",
        "root.title(\"Booking Detail\")\n",
        "root.geometry(\"300x300\")\n",
        "\n",
        "# Ticket details\n",
        "tk.Label(root, text=ticket[\"title\"], font=(\"Arial\", 18, \"bold\")).pack(pady=10)\n",
        "tk.Label(root, text=f\"{ticket['from']} → {ticket['to']}\", font=(\"Arial\", 12)).pack()\n",
        "tk.Label(root, text=f\"Time: {ticket['time']}\", font=(\"Arial\", 12)).pack()\n",
        "tk.Label(root, text=f\"Price: {ticket['price']}\", font=(\"Arial\", 12, \"bold\")).pack(pady=10)\n",
        "\n",
        "# Confirm button\n",
        "tk.Button(root, text=\"Confirm Booking\", bg=\"orange\", fg=\"white\",\n",
        "          font=(\"Arial\", 12), command=confirm_booking).pack(pady=20)\n",
        "\n",
        "# Run the app\n",
        "root.mainloop()\n"
      ]
    }
  ]
}